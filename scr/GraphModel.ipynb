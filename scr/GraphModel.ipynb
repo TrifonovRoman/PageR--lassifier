{
 "cells": [
  {
   "cell_type": "code",
   "execution_count": 1,
   "id": "eff0d1db-a365-4b22-9686-14b9df0404c9",
   "metadata": {},
   "outputs": [],
   "source": [
    "import numpy as np\n",
    "import tensorflow as tf\n",
    "from typing import Tuple\n",
    "import os"
   ]
  },
  {
   "cell_type": "code",
   "execution_count": 4,
   "id": "99fd57b6-f493-48d0-a51f-397104f0f865",
   "metadata": {},
   "outputs": [
    {
     "name": "stdout",
     "output_type": "stream",
     "text": [
      "Результат: 25.266669199057848\n"
     ]
    }
   ],
   "source": [
    "class GraphModel(tf.Module):\n",
    "    def __init__(self):\n",
    "        super().__init__()\n",
    "\n",
    "    def __call__(self, graph: Tuple[np.ndarray, np.ndarray, np.ndarray]) -> tf.Tensor:\n",
    "        A, E, V = graph\n",
    "        \n",
    "        N = V.shape[0]\n",
    "        M = A.shape[1]\n",
    "        \n",
    "        A_full = np.zeros((N, N))\n",
    "        for i in range(M):\n",
    "            node_from, node_to = A[:, i]\n",
    "            A_full[int(node_from), int(node_to)] = 1\n",
    "        \n",
    "        I = np.eye(N)\n",
    "        \n",
    "        D = np.diag(np.sum(A_full, axis=1))\n",
    "        \n",
    "        D_inv_sqrt = np.linalg.inv(np.sqrt(D + I))\n",
    "        \n",
    "        A_hat = D_inv_sqrt @ (A_full + I) @ D_inv_sqrt\n",
    "        \n",
    "        V_transformed = A_hat @ V\n",
    "\n",
    "        V_activated = tf.nn.relu(V_transformed)\n",
    "\n",
    "        aggregated_output = tf.reduce_sum(V_activated)\n",
    "        \n",
    "        return aggregated_output\n",
    "\n",
    "    def save(self, save_path: str):\n",
    "        tf.saved_model.save(self, save_path)\n",
    "        print(f\"Модель сохранена в {save_path}\")\n",
    "\n",
    "    @staticmethod\n",
    "    def load(load_path: str) -> 'GraphModel':\n",
    "        loaded_model = tf.saved_model.load(load_path)\n",
    "        print(f\"Модель загружена из {load_path}\")\n",
    "        return loaded_model\n",
    "\n",
    "# Пример использования:\n",
    "\n",
    "# Матрица смежности A (2 x M), где каждая колонка — это ребро: [узел_из, узел_в]\n",
    "A = np.array([[0, 1, 1], [1, 2, 0]])\n",
    "\n",
    "# Матрица эмбеддингов рёбер E (M x K)\n",
    "E = np.random.randn(3, 4)  # M=3, K=4 (случайные эмбеддинги рёбер)\n",
    "\n",
    "# Матрица эмбеддингов узлов V (N x C)\n",
    "V = np.array([[1.0, 2.0], [3.0, 4.0], [5.0, 6.0]])  # N=3, C=2\n",
    "\n",
    "# Кортеж, представляющий граф\n",
    "graph = (A, E, V)\n",
    "\n",
    "# Инициализируем объект класса GraphModel\n",
    "graph_model = GraphModel()\n",
    "\n",
    "# Вызываем модель с графом (A, E, V)\n",
    "output = graph_model(graph)\n",
    "print(f\"Результат: {output.numpy()}\")"
   ]
  },
  {
   "cell_type": "code",
   "execution_count": 6,
   "id": "65a55a79-8d1a-41a3-917a-ea97137f0c1d",
   "metadata": {},
   "outputs": [
    {
     "ename": "FailedPreconditionError",
     "evalue": "graph_model_saved\\variables is not a directory",
     "output_type": "error",
     "traceback": [
      "\u001b[1;31m---------------------------------------------------------------------------\u001b[0m",
      "\u001b[1;31mFailedPreconditionError\u001b[0m                   Traceback (most recent call last)",
      "Cell \u001b[1;32mIn[6], line 3\u001b[0m\n\u001b[0;32m      1\u001b[0m save_path \u001b[38;5;241m=\u001b[39m \u001b[38;5;124m'\u001b[39m\u001b[38;5;124mgraph_model_saved\u001b[39m\u001b[38;5;124m'\u001b[39m\n\u001b[1;32m----> 3\u001b[0m \u001b[43mgraph_model\u001b[49m\u001b[38;5;241;43m.\u001b[39;49m\u001b[43msave\u001b[49m\u001b[43m(\u001b[49m\u001b[43msave_path\u001b[49m\u001b[43m)\u001b[49m\n\u001b[0;32m      5\u001b[0m loaded_model \u001b[38;5;241m=\u001b[39m GraphModel\u001b[38;5;241m.\u001b[39mload(save_path)\n\u001b[0;32m      7\u001b[0m output_loaded \u001b[38;5;241m=\u001b[39m loaded_model(graph)\n",
      "Cell \u001b[1;32mIn[4], line 33\u001b[0m, in \u001b[0;36mGraphModel.save\u001b[1;34m(self, save_path)\u001b[0m\n\u001b[0;32m     32\u001b[0m \u001b[38;5;28;01mdef\u001b[39;00m \u001b[38;5;21msave\u001b[39m(\u001b[38;5;28mself\u001b[39m, save_path: \u001b[38;5;28mstr\u001b[39m):\n\u001b[1;32m---> 33\u001b[0m     \u001b[43mtf\u001b[49m\u001b[38;5;241;43m.\u001b[39;49m\u001b[43msaved_model\u001b[49m\u001b[38;5;241;43m.\u001b[39;49m\u001b[43msave\u001b[49m\u001b[43m(\u001b[49m\u001b[38;5;28;43mself\u001b[39;49m\u001b[43m,\u001b[49m\u001b[43m \u001b[49m\u001b[43msave_path\u001b[49m\u001b[43m)\u001b[49m\n\u001b[0;32m     34\u001b[0m     \u001b[38;5;28mprint\u001b[39m(\u001b[38;5;124mf\u001b[39m\u001b[38;5;124m\"\u001b[39m\u001b[38;5;124mМодель сохранена в \u001b[39m\u001b[38;5;132;01m{\u001b[39;00msave_path\u001b[38;5;132;01m}\u001b[39;00m\u001b[38;5;124m\"\u001b[39m)\n",
      "File \u001b[1;32mC:\\Venv\\env\\Lib\\site-packages\\tensorflow\\python\\saved_model\\save.py:1432\u001b[0m, in \u001b[0;36msave\u001b[1;34m(obj, export_dir, signatures, options)\u001b[0m\n\u001b[0;32m   1430\u001b[0m \u001b[38;5;66;03m# pylint: enable=line-too-long\u001b[39;00m\n\u001b[0;32m   1431\u001b[0m metrics\u001b[38;5;241m.\u001b[39mIncrementWriteApi(_SAVE_V2_LABEL)\n\u001b[1;32m-> 1432\u001b[0m \u001b[43msave_and_return_nodes\u001b[49m\u001b[43m(\u001b[49m\u001b[43mobj\u001b[49m\u001b[43m,\u001b[49m\u001b[43m \u001b[49m\u001b[43mexport_dir\u001b[49m\u001b[43m,\u001b[49m\u001b[43m \u001b[49m\u001b[43msignatures\u001b[49m\u001b[43m,\u001b[49m\u001b[43m \u001b[49m\u001b[43moptions\u001b[49m\u001b[43m)\u001b[49m\n\u001b[0;32m   1434\u001b[0m metrics\u001b[38;5;241m.\u001b[39mIncrementWrite(write_version\u001b[38;5;241m=\u001b[39m\u001b[38;5;124m\"\u001b[39m\u001b[38;5;124m2\u001b[39m\u001b[38;5;124m\"\u001b[39m)\n",
      "File \u001b[1;32mC:\\Venv\\env\\Lib\\site-packages\\tensorflow\\python\\saved_model\\save.py:1474\u001b[0m, in \u001b[0;36msave_and_return_nodes\u001b[1;34m(obj, export_dir, signatures, options, experimental_skip_checkpoint)\u001b[0m\n\u001b[0;32m   1471\u001b[0m \u001b[38;5;66;03m# Write the checkpoint, copy assets into the assets directory, and write out\u001b[39;00m\n\u001b[0;32m   1472\u001b[0m \u001b[38;5;66;03m# the SavedModel proto itself.\u001b[39;00m\n\u001b[0;32m   1473\u001b[0m \u001b[38;5;28;01mif\u001b[39;00m \u001b[38;5;129;01mnot\u001b[39;00m experimental_skip_checkpoint:\n\u001b[1;32m-> 1474\u001b[0m   \u001b[43mpath_helpers\u001b[49m\u001b[38;5;241;43m.\u001b[39;49m\u001b[43mget_or_create_variables_dir\u001b[49m\u001b[43m(\u001b[49m\u001b[43mexport_dir\u001b[49m\u001b[43m)\u001b[49m\n\u001b[0;32m   1475\u001b[0m   ckpt_options \u001b[38;5;241m=\u001b[39m checkpoint_options\u001b[38;5;241m.\u001b[39mCheckpointOptions(\n\u001b[0;32m   1476\u001b[0m       experimental_io_device\u001b[38;5;241m=\u001b[39moptions\u001b[38;5;241m.\u001b[39mexperimental_io_device,\n\u001b[0;32m   1477\u001b[0m       experimental_sharding_callback\u001b[38;5;241m=\u001b[39moptions\u001b[38;5;241m.\u001b[39mexperimental_sharding_callback)\n\u001b[0;32m   1478\u001b[0m   object_saver\u001b[38;5;241m.\u001b[39msave(\n\u001b[0;32m   1479\u001b[0m       path_helpers\u001b[38;5;241m.\u001b[39mget_variables_path(export_dir), options\u001b[38;5;241m=\u001b[39mckpt_options)\n",
      "File \u001b[1;32mC:\\Venv\\env\\Lib\\site-packages\\tensorflow\\python\\saved_model\\path_helpers.py:26\u001b[0m, in \u001b[0;36mget_or_create_variables_dir\u001b[1;34m(export_dir)\u001b[0m\n\u001b[0;32m     24\u001b[0m \u001b[38;5;250m\u001b[39m\u001b[38;5;124;03m\"\"\"Return variables sub-directory, or create one if it doesn't exist.\"\"\"\u001b[39;00m\n\u001b[0;32m     25\u001b[0m variables_dir \u001b[38;5;241m=\u001b[39m get_variables_dir(export_dir)\n\u001b[1;32m---> 26\u001b[0m \u001b[43mfile_io\u001b[49m\u001b[38;5;241;43m.\u001b[39;49m\u001b[43mrecursive_create_dir\u001b[49m\u001b[43m(\u001b[49m\u001b[43mvariables_dir\u001b[49m\u001b[43m)\u001b[49m\n\u001b[0;32m     27\u001b[0m \u001b[38;5;28;01mreturn\u001b[39;00m variables_dir\n",
      "File \u001b[1;32mC:\\Venv\\env\\Lib\\site-packages\\tensorflow\\python\\lib\\io\\file_io.py:498\u001b[0m, in \u001b[0;36mrecursive_create_dir\u001b[1;34m(dirname)\u001b[0m\n\u001b[0;32m    486\u001b[0m \u001b[38;5;129m@tf_export\u001b[39m(v1\u001b[38;5;241m=\u001b[39m[\u001b[38;5;124m\"\u001b[39m\u001b[38;5;124mgfile.MakeDirs\u001b[39m\u001b[38;5;124m\"\u001b[39m])\n\u001b[0;32m    487\u001b[0m \u001b[38;5;28;01mdef\u001b[39;00m \u001b[38;5;21mrecursive_create_dir\u001b[39m(dirname):\n\u001b[0;32m    488\u001b[0m \u001b[38;5;250m  \u001b[39m\u001b[38;5;124;03m\"\"\"Creates a directory and all parent/intermediate directories.\u001b[39;00m\n\u001b[0;32m    489\u001b[0m \n\u001b[0;32m    490\u001b[0m \u001b[38;5;124;03m  It succeeds if dirname already exists and is writable.\u001b[39;00m\n\u001b[1;32m   (...)\u001b[0m\n\u001b[0;32m    496\u001b[0m \u001b[38;5;124;03m    errors.OpError: If the operation fails.\u001b[39;00m\n\u001b[0;32m    497\u001b[0m \u001b[38;5;124;03m  \"\"\"\u001b[39;00m\n\u001b[1;32m--> 498\u001b[0m   \u001b[43mrecursive_create_dir_v2\u001b[49m\u001b[43m(\u001b[49m\u001b[43mdirname\u001b[49m\u001b[43m)\u001b[49m\n",
      "File \u001b[1;32mC:\\Venv\\env\\Lib\\site-packages\\tensorflow\\python\\lib\\io\\file_io.py:513\u001b[0m, in \u001b[0;36mrecursive_create_dir_v2\u001b[1;34m(path)\u001b[0m\n\u001b[0;32m    501\u001b[0m \u001b[38;5;129m@tf_export\u001b[39m(\u001b[38;5;124m\"\u001b[39m\u001b[38;5;124mio.gfile.makedirs\u001b[39m\u001b[38;5;124m\"\u001b[39m)\n\u001b[0;32m    502\u001b[0m \u001b[38;5;28;01mdef\u001b[39;00m \u001b[38;5;21mrecursive_create_dir_v2\u001b[39m(path):\n\u001b[0;32m    503\u001b[0m \u001b[38;5;250m  \u001b[39m\u001b[38;5;124;03m\"\"\"Creates a directory and all parent/intermediate directories.\u001b[39;00m\n\u001b[0;32m    504\u001b[0m \n\u001b[0;32m    505\u001b[0m \u001b[38;5;124;03m  It succeeds if path already exists and is writable.\u001b[39;00m\n\u001b[1;32m   (...)\u001b[0m\n\u001b[0;32m    511\u001b[0m \u001b[38;5;124;03m    errors.OpError: If the operation fails.\u001b[39;00m\n\u001b[0;32m    512\u001b[0m \u001b[38;5;124;03m  \"\"\"\u001b[39;00m\n\u001b[1;32m--> 513\u001b[0m   \u001b[43m_pywrap_file_io\u001b[49m\u001b[38;5;241;43m.\u001b[39;49m\u001b[43mRecursivelyCreateDir\u001b[49m\u001b[43m(\u001b[49m\u001b[43mcompat\u001b[49m\u001b[38;5;241;43m.\u001b[39;49m\u001b[43mpath_to_bytes\u001b[49m\u001b[43m(\u001b[49m\u001b[43mpath\u001b[49m\u001b[43m)\u001b[49m\u001b[43m)\u001b[49m\n",
      "\u001b[1;31mFailedPreconditionError\u001b[0m: graph_model_saved\\variables is not a directory"
     ]
    }
   ],
   "source": [
    "save_path = 'graph_model_saved'\n",
    "\n",
    "graph_model.save(save_path)\n",
    "\n",
    "loaded_model = GraphModel.load(save_path)\n",
    "\n",
    "output_loaded = loaded_model(graph)\n",
    "print(f\"Результат загруженной модели: {output_loaded.numpy()}\")"
   ]
  },
  {
   "cell_type": "code",
   "execution_count": null,
   "id": "da0313d9-8318-43d0-bbbb-ad6f16b57fba",
   "metadata": {},
   "outputs": [],
   "source": []
  },
  {
   "cell_type": "code",
   "execution_count": null,
   "id": "45ba10f1-a5fd-4b86-b1e9-82269dac1c0e",
   "metadata": {},
   "outputs": [],
   "source": []
  }
 ],
 "metadata": {
  "kernelspec": {
   "display_name": "Python 3 (ipykernel)",
   "language": "python",
   "name": "python3"
  },
  "language_info": {
   "codemirror_mode": {
    "name": "ipython",
    "version": 3
   },
   "file_extension": ".py",
   "mimetype": "text/x-python",
   "name": "python",
   "nbconvert_exporter": "python",
   "pygments_lexer": "ipython3",
   "version": "3.12.4"
  }
 },
 "nbformat": 4,
 "nbformat_minor": 5
}
