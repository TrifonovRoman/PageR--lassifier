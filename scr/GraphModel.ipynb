{
 "cells": [
  {
   "cell_type": "code",
   "execution_count": 10,
   "id": "a4d3f729-249d-4411-87ac-3959252b9779",
   "metadata": {},
   "outputs": [],
   "source": [
    "import numpy as np\n",
    "import tensorflow as tf\n",
    "from typing import Tuple\n",
    "import os"
   ]
  },
  {
   "cell_type": "code",
   "execution_count": 36,
   "id": "99fd57b6-f493-48d0-a51f-397104f0f865",
   "metadata": {},
   "outputs": [
    {
     "name": "stdout",
     "output_type": "stream",
     "text": [
      "Результат: 25.266669199057848\n"
     ]
    }
   ],
   "source": [
    "class GraphModel(tf.Module):\n",
    "    def __init__(self):\n",
    "        super().__init__()\n",
    "\n",
    "    def __call__(self, graph: Tuple[np.ndarray, np.ndarray, np.ndarray]) -> tf.Tensor:\n",
    "        A, E, V = graph\n",
    "        \n",
    "        N = V.shape[0]\n",
    "        M = A.shape[1]\n",
    "        \n",
    "        A_full = np.zeros((N, N))\n",
    "        for i in range(M):\n",
    "            node_from, node_to = A[:, i]\n",
    "            A_full[int(node_from), int(node_to)] = 1\n",
    "        \n",
    "        I = np.eye(N)\n",
    "        \n",
    "        D = np.diag(np.sum(A_full, axis=1))\n",
    "        \n",
    "        D_inv_sqrt = np.linalg.inv(np.sqrt(D + I))\n",
    "        \n",
    "        A_hat = D_inv_sqrt @ (A_full + I) @ D_inv_sqrt\n",
    "        \n",
    "        V_transformed = A_hat @ V\n",
    "\n",
    "        V_activated = tf.nn.relu(V_transformed)\n",
    "\n",
    "        aggregated_output = tf.reduce_sum(V_activated)\n",
    "        \n",
    "        return aggregated_output\n",
    "\n",
    "    def save(self, save_path: str):\n",
    "        tf.saved_model.save(self, save_path)\n",
    "        print(f\"Модель сохранена в {save_path}\")\n",
    "\n",
    "    @staticmethod\n",
    "    def load(load_path: str) -> 'GraphModel':\n",
    "        loaded_model = tf.saved_model.load(load_path)\n",
    "        print(f\"Модель загружена из {load_path}\")\n",
    "        return loaded_model\n",
    "\n",
    "# Пример использования:\n",
    "\n",
    "# Матрица смежности A (2 x M), где каждая колонка — это ребро: [узел_из, узел_в]\n",
    "A = np.array([[0, 1, 1], [1, 2, 0]])\n",
    "\n",
    "# Матрица эмбеддингов рёбер E (M x K)\n",
    "E = np.random.randn(3, 4)  # M=3, K=4 (случайные эмбеддинги рёбер)\n",
    "\n",
    "# Матрица эмбеддингов узлов V (N x C)\n",
    "V = np.array([[1.0, 2.0], [3.0, 4.0], [5.0, 6.0]])  # N=3, C=2\n",
    "\n",
    "# Кортеж, представляющий граф\n",
    "graph = (A, E, V)\n",
    "\n",
    "# Инициализируем объект класса GraphModel\n",
    "graph_model = GraphModel()\n",
    "\n",
    "# Вызываем модель с графом (A, E, V)\n",
    "output = graph_model(graph)\n",
    "print(f\"Результат: {output.numpy()}\")"
   ]
  },
  {
   "cell_type": "code",
   "execution_count": null,
   "id": "65a55a79-8d1a-41a3-917a-ea97137f0c1d",
   "metadata": {},
   "outputs": [],
   "source": []
  }
 ],
 "metadata": {
  "kernelspec": {
   "display_name": "Python 3 (ipykernel)",
   "language": "python",
   "name": "python3"
  },
  "language_info": {
   "codemirror_mode": {
    "name": "ipython",
    "version": 3
   },
   "file_extension": ".py",
   "mimetype": "text/x-python",
   "name": "python",
   "nbconvert_exporter": "python",
   "pygments_lexer": "ipython3",
   "version": "3.12.4"
  }
 },
 "nbformat": 4,
 "nbformat_minor": 5
}
